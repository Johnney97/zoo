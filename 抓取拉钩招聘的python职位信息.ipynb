{
 "cells": [
  {
   "cell_type": "code",
   "execution_count": 1,
   "metadata": {},
   "outputs": [
    {
     "name": "stdout",
     "output_type": "stream",
     "text": [
      "请输入你要抓取的页码总数：10\n",
      "第1页正常采集\n",
      "第2页正常采集\n",
      "第3页正常采集\n",
      "第4页正常采集\n",
      "第5页正常采集\n",
      "第6页正常采集\n",
      "第7页正常采集\n",
      "第8页正常采集\n",
      "第9页正常采集\n",
      "第10页正常采集\n"
     ]
    }
   ],
   "source": [
    "#!/usr/bin/env python3.4\n",
    "# encoding: utf-8\n",
    "\"\"\"\n",
    "Created on 19-5-05\n",
    "@title: ''\n",
    "@author: Xusl\n",
    "\"\"\"\n",
    "import json\n",
    "import requests\n",
    "import xlwt\n",
    "import time\n",
    "\n",
    "\n",
    "# 获取存储职位信息的json对象，遍历获得公司名、福利待遇、工作地点、学历要求、工作类型、发布时间、职位名称、薪资、工作年限\n",
    "def get_json(url, datas):\n",
    "    my_headers = {\n",
    "        \"User-Agent\": \"Mozilla/5.0 (Macintosh; Intel Mac OS X 10_13_6) AppleWebKit/537.36 (KHTML, like Gecko) Chrome/72.0.3626.119 Safari/537.36\",\n",
    "        \"Referer\": \"https://www.lagou.com/jobs/list_Python?city=%E5%85%A8%E5%9B%BD&cl=false&fromSearch=true&labelWords=&suginput=\",\n",
    "        \"Content-Type\": \"application/x-www-form-urlencoded;charset = UTF-8\"\n",
    "    }\n",
    "    time.sleep(5)\n",
    "    ses = requests.session()    # 获取session\n",
    "    ses.headers.update(my_headers)  # 更新\n",
    "    ses.get(\"https://www.lagou.com/jobs/list_python?city=%E5%85%A8%E5%9B%BD&cl=false&fromSearch=true&labelWords=&suginput=\")\n",
    "    content = ses.post(url=url, data=datas)\n",
    "    result = content.json()\n",
    "    info = result['content']['positionResult']['result']\n",
    "    info_list = []\n",
    "    for job in info:\n",
    "        information = []\n",
    "        information.append(job['positionId'])  # 岗位对应ID\n",
    "        information.append(job['city'])  # 岗位对应城市\n",
    "        information.append(job['companyFullName'])  # 公司全名\n",
    "        information.append(job['companyLabelList'])  # 福利待遇\n",
    "        information.append(job['district'])  # 工作地点\n",
    "        information.append(job['education'])  # 学历要求\n",
    "        information.append(job['firstType'])  # 工作类型\n",
    "        information.append(job['formatCreateTime'])  # 发布时间\n",
    "        information.append(job['positionName'])  # 职位名称\n",
    "        information.append(job['salary'])  # 薪资\n",
    "        information.append(job['workYear'])  # 工作年限\n",
    "        info_list.append(information)\n",
    "        # 将列表对象进行json格式的编码转换,其中indent参数设置缩进值为2\n",
    "        # print(json.dumps(info_list, ensure_ascii=False, indent=2))\n",
    "    # print(info_list)\n",
    "    return info_list\n",
    "\n",
    "\n",
    "def main():\n",
    "    page = int(input('请输入你要抓取的页码总数：'))\n",
    "    # kd = input('请输入你要抓取的职位关键字：')\n",
    "    # city = input('请输入你要抓取的城市：')\n",
    "\n",
    "    info_result = []\n",
    "    title = ['岗位id', '城市', '公司全名', '福利待遇', '工作地点', '学历要求', '工作类型', '发布时间', '职位名称', '薪资', '工作年限']\n",
    "    info_result.append(title)\n",
    "    for x in range(1, page+1):\n",
    "        url = 'https://www.lagou.com/jobs/positionAjax.json?needAddtionalResult=false'\n",
    "        datas = {\n",
    "            'first': 'false',\n",
    "            'pn': x,\n",
    "            'kd': 'python',\n",
    "        }\n",
    "        try:\n",
    "            info = get_json(url, datas)\n",
    "            info_result = info_result + info\n",
    "            print(\"第%s页正常采集\" % x)\n",
    "        except Exception as msg:\n",
    "            print(\"第%s页出现问题\" % x)\n",
    "        \n",
    "        # 创建workbook,即excel\n",
    "        workbook = xlwt.Workbook(encoding='utf-8')\n",
    "        # 创建表,第二参数用于确认同一个cell单元是否可以重设值\n",
    "        worksheet = workbook.add_sheet('lagouzp', cell_overwrite_ok=True)\n",
    "        for i, row in enumerate(info_result):\n",
    "            # print(row)\n",
    "            for j, col in enumerate(row):\n",
    "                # print(col)\n",
    "                worksheet.write(i, j, col)\n",
    "        workbook.save('lagouzp.xls')\n",
    "\n",
    "\n",
    "if __name__ == '__main__':\n",
    "    main()"
   ]
  },
  {
   "cell_type": "code",
   "execution_count": 4,
   "metadata": {
    "scrolled": true
   },
   "outputs": [
    {
     "ename": "ImportError",
     "evalue": "cannot import name 'Bar' from 'pyecharts' (D:\\Anaconda\\lib\\site-packages\\pyecharts\\__init__.py)",
     "output_type": "error",
     "traceback": [
      "\u001b[1;31m---------------------------------------------------------------------------\u001b[0m",
      "\u001b[1;31mImportError\u001b[0m                               Traceback (most recent call last)",
      "\u001b[1;32m<ipython-input-4-cb5507f798c1>\u001b[0m in \u001b[0;36m<module>\u001b[1;34m()\u001b[0m\n\u001b[1;32m----> 1\u001b[1;33m \u001b[1;32mfrom\u001b[0m \u001b[0mpyecharts\u001b[0m \u001b[1;32mimport\u001b[0m \u001b[0mBar\u001b[0m\u001b[1;33m\u001b[0m\u001b[0m\n\u001b[0m\u001b[0;32m      2\u001b[0m \u001b[1;33m\u001b[0m\u001b[0m\n\u001b[0;32m      3\u001b[0m city_nms_top10 = ['北京', '上海', '深圳', '成都', '杭州', '广州', '武汉', '南京', '苏州', '郑州', '天津', '西安', '东莞', '珠海', '合肥', '厦门', '宁波',\n\u001b[0;32m      4\u001b[0m                   '南宁', '重庆', '佛山', '大连', '哈尔滨', '长沙', '福州', '中山']\n\u001b[0;32m      5\u001b[0m \u001b[0mcity_nums_top10\u001b[0m \u001b[1;33m=\u001b[0m \u001b[1;33m[\u001b[0m\u001b[1;36m149\u001b[0m\u001b[1;33m,\u001b[0m \u001b[1;36m95\u001b[0m\u001b[1;33m,\u001b[0m \u001b[1;36m77\u001b[0m\u001b[1;33m,\u001b[0m \u001b[1;36m22\u001b[0m\u001b[1;33m,\u001b[0m \u001b[1;36m17\u001b[0m\u001b[1;33m,\u001b[0m \u001b[1;36m17\u001b[0m\u001b[1;33m,\u001b[0m \u001b[1;36m16\u001b[0m\u001b[1;33m,\u001b[0m \u001b[1;36m13\u001b[0m\u001b[1;33m,\u001b[0m \u001b[1;36m7\u001b[0m\u001b[1;33m,\u001b[0m \u001b[1;36m5\u001b[0m\u001b[1;33m,\u001b[0m \u001b[1;36m4\u001b[0m\u001b[1;33m,\u001b[0m \u001b[1;36m4\u001b[0m\u001b[1;33m,\u001b[0m \u001b[1;36m3\u001b[0m\u001b[1;33m,\u001b[0m \u001b[1;36m2\u001b[0m\u001b[1;33m,\u001b[0m \u001b[1;36m2\u001b[0m\u001b[1;33m,\u001b[0m \u001b[1;36m2\u001b[0m\u001b[1;33m,\u001b[0m \u001b[1;36m1\u001b[0m\u001b[1;33m,\u001b[0m \u001b[1;36m1\u001b[0m\u001b[1;33m,\u001b[0m \u001b[1;36m1\u001b[0m\u001b[1;33m,\u001b[0m \u001b[1;36m1\u001b[0m\u001b[1;33m,\u001b[0m \u001b[1;36m1\u001b[0m\u001b[1;33m,\u001b[0m \u001b[1;36m1\u001b[0m\u001b[1;33m,\u001b[0m \u001b[1;36m1\u001b[0m\u001b[1;33m,\u001b[0m \u001b[1;36m1\u001b[0m\u001b[1;33m,\u001b[0m \u001b[1;36m1\u001b[0m\u001b[1;33m]\u001b[0m\u001b[1;33m\u001b[0m\u001b[0m\n",
      "\u001b[1;31mImportError\u001b[0m: cannot import name 'Bar' from 'pyecharts' (D:\\Anaconda\\lib\\site-packages\\pyecharts\\__init__.py)"
     ]
    }
   ],
   "source": [
    "from pyecharts import Bar\n",
    "\n",
    "city_nms_top10 = ['北京', '上海', '深圳', '成都', '杭州', '广州', '武汉', '南京', '苏州', '郑州', '天津', '西安', '东莞', '珠海', '合肥', '厦门', '宁波',\n",
    "                  '南宁', '重庆', '佛山', '大连', '哈尔滨', '长沙', '福州', '中山']\n",
    "city_nums_top10 = [149, 95, 77, 22, 17, 17, 16, 13, 7, 5, 4, 4, 3, 2, 2, 2, 1, 1, 1, 1, 1, 1, 1, 1, 1]\n",
    "\n",
    "bar = Bar(\"Python岗位\", \"各城市数量\")\n",
    "bar.add(\"数量\", city_nms, city_nums, is_more_utils=True)\n",
    "# bar.print_echarts_options() # 该行只为了打印配置项，方便调试时使用\n",
    "bar.render('Python岗位各城市数量.html')  # 生成本地 HTML 文件"
   ]
  },
  {
   "cell_type": "code",
   "execution_count": 3,
   "metadata": {},
   "outputs": [],
   "source": [
    "import seaborn"
   ]
  },
  {
   "cell_type": "code",
   "execution_count": 5,
   "metadata": {},
   "outputs": [
    {
     "ename": "IndentationError",
     "evalue": "unexpected indent (<ipython-input-5-5ebf85ac0ad8>, line 18)",
     "output_type": "error",
     "traceback": [
      "\u001b[1;36m  File \u001b[1;32m\"<ipython-input-5-5ebf85ac0ad8>\"\u001b[1;36m, line \u001b[1;32m18\u001b[0m\n\u001b[1;33m    attr, value = geo.cast(city_datas)\u001b[0m\n\u001b[1;37m    ^\u001b[0m\n\u001b[1;31mIndentationError\u001b[0m\u001b[1;31m:\u001b[0m unexpected indent\n"
     ]
    }
   ],
   "source": [
    "from pyecharts import Geo\n",
    "\n",
    "city_datas = [('北京', 149), ('上海', 95), ('深圳', 77), ('成都', 22), ('杭州', 17), ('广州', 17), ('武汉', 16), ('南京', 13), ('苏州', 7),\n",
    "     ('郑州', 5), ('天津', 4), ('西安', 4), ('东莞', 3), ('珠海', 2), ('合肥', 2), ('厦门', 2), ('宁波', 1), ('南宁', 1), ('重庆', 1),\n",
    "     ('佛山', 1), ('大连', 1), ('哈尔滨', 1), ('长沙', 1), ('福州', 1), ('中山', 1)]\n",
    "geo = Geo(\"Python岗位城市分布地图\", \"数据来源拉勾\", title_color=\"#fff\",\n",
    "                  title_pos=\"center\", width=1200,\n",
    "                  height=600, background_color='#404a59')\n",
    "attr, value = geo.cast(city_datas)\n",
    "geo.add(\"\", attr, value, visual_range=[0, 200], visual_text_color=\"#fff\",\n",
    "                symbol_size=15, is_visualmap=True)\n",
    "geo.render(\"Python岗位城市分布地图_scatter.html\")\n",
    "\n",
    "\n",
    "geo = Geo(\"Python岗位城市分布地图\", \"数据来源拉勾\", title_color=\"#fff\",\n",
    "                  title_pos=\"center\", width=1200,\n",
    "                  height=600, background_color='#404a59')\n",
    "        attr, value = geo.cast(city_datas)\n",
    "        geo.add(\"\", attr, value, type=\"heatmap\", visual_range=[0, 10], visual_text_color=\"#fff\",\n",
    "                symbol_size=15, is_visualmap=True)\n",
    "        geo.render(\"Python岗位城市分布地图_heatmap.html\")"
   ]
  },
  {
   "cell_type": "code",
   "execution_count": 6,
   "metadata": {},
   "outputs": [
    {
     "ename": "ImportError",
     "evalue": "cannot import name 'Pie' from 'pyecharts' (D:\\Anaconda\\lib\\site-packages\\pyecharts\\__init__.py)",
     "output_type": "error",
     "traceback": [
      "\u001b[1;31m---------------------------------------------------------------------------\u001b[0m",
      "\u001b[1;31mImportError\u001b[0m                               Traceback (most recent call last)",
      "\u001b[1;32m<ipython-input-6-48ba1adc6fb5>\u001b[0m in \u001b[0;36m<module>\u001b[1;34m()\u001b[0m\n\u001b[1;32m----> 1\u001b[1;33m \u001b[1;32mfrom\u001b[0m \u001b[0mpyecharts\u001b[0m \u001b[1;32mimport\u001b[0m \u001b[0mPie\u001b[0m\u001b[1;33m\u001b[0m\u001b[0m\n\u001b[0m\u001b[0;32m      2\u001b[0m \u001b[1;33m\u001b[0m\u001b[0m\n\u001b[0;32m      3\u001b[0m \u001b[0mcity_nms_top10\u001b[0m \u001b[1;33m=\u001b[0m \u001b[1;33m[\u001b[0m\u001b[1;34m'北京'\u001b[0m\u001b[1;33m,\u001b[0m \u001b[1;34m'上海'\u001b[0m\u001b[1;33m,\u001b[0m \u001b[1;34m'深圳'\u001b[0m\u001b[1;33m,\u001b[0m \u001b[1;34m'成都'\u001b[0m\u001b[1;33m,\u001b[0m \u001b[1;34m'广州'\u001b[0m\u001b[1;33m,\u001b[0m \u001b[1;34m'杭州'\u001b[0m\u001b[1;33m,\u001b[0m \u001b[1;34m'武汉'\u001b[0m\u001b[1;33m,\u001b[0m \u001b[1;34m'南京'\u001b[0m\u001b[1;33m,\u001b[0m \u001b[1;34m'苏州'\u001b[0m\u001b[1;33m,\u001b[0m \u001b[1;34m'郑州'\u001b[0m\u001b[1;33m]\u001b[0m\u001b[1;33m\u001b[0m\u001b[0m\n\u001b[0;32m      4\u001b[0m \u001b[0mcity_nums_top10\u001b[0m \u001b[1;33m=\u001b[0m \u001b[1;33m[\u001b[0m\u001b[1;36m149\u001b[0m\u001b[1;33m,\u001b[0m \u001b[1;36m95\u001b[0m\u001b[1;33m,\u001b[0m \u001b[1;36m77\u001b[0m\u001b[1;33m,\u001b[0m \u001b[1;36m22\u001b[0m\u001b[1;33m,\u001b[0m \u001b[1;36m17\u001b[0m\u001b[1;33m,\u001b[0m \u001b[1;36m17\u001b[0m\u001b[1;33m,\u001b[0m \u001b[1;36m16\u001b[0m\u001b[1;33m,\u001b[0m \u001b[1;36m13\u001b[0m\u001b[1;33m,\u001b[0m \u001b[1;36m7\u001b[0m\u001b[1;33m,\u001b[0m \u001b[1;36m5\u001b[0m\u001b[1;33m]\u001b[0m\u001b[1;33m\u001b[0m\u001b[0m\n\u001b[0;32m      5\u001b[0m \u001b[0mpie\u001b[0m \u001b[1;33m=\u001b[0m \u001b[0mPie\u001b[0m\u001b[1;33m(\u001b[0m\u001b[1;33m)\u001b[0m\u001b[1;33m\u001b[0m\u001b[0m\n",
      "\u001b[1;31mImportError\u001b[0m: cannot import name 'Pie' from 'pyecharts' (D:\\Anaconda\\lib\\site-packages\\pyecharts\\__init__.py)"
     ]
    }
   ],
   "source": [
    "from pyecharts import Pie\n",
    "\n",
    "city_nms_top10 = ['北京', '上海', '深圳', '成都', '广州', '杭州', '武汉', '南京', '苏州', '郑州']\n",
    "city_nums_top10 = [149, 95, 77, 22, 17, 17, 16, 13, 7, 5]\n",
    "pie = Pie()\n",
    "pie.add(\"\", city_nms_top10, city_nums_top10, is_label_show=True)\n",
    "# pie.show_config()\n",
    "pie.render('Python岗位各城市分布饼图.html')"
   ]
  },
  {
   "cell_type": "code",
   "execution_count": null,
   "metadata": {},
   "outputs": [],
   "source": []
  }
 ],
 "metadata": {
  "kernelspec": {
   "display_name": "Python 3",
   "language": "python",
   "name": "python3"
  },
  "language_info": {
   "codemirror_mode": {
    "name": "ipython",
    "version": 3
   },
   "file_extension": ".py",
   "mimetype": "text/x-python",
   "name": "python",
   "nbconvert_exporter": "python",
   "pygments_lexer": "ipython3",
   "version": "3.7.0"
  }
 },
 "nbformat": 4,
 "nbformat_minor": 2
}
