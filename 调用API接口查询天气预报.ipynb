{
 "cells": [
  {
   "cell_type": "code",
   "execution_count": null,
   "metadata": {},
   "outputs": [],
   "source": [
    "# 导入分析需要用到的库\n",
    "import requests\n",
    "import json, urllib\n",
    "from urllib import parse\n",
    "#输入要查询的城市名\n",
    "cityname = input('请输入您要查询的城市名：')\n",
    "#将输入的城市名转化为url识别的格式\n",
    "cityname = urllib.parse.quote(cityname)\n",
    "#拼接url\n",
    "url = ('http://apis.juhe.cn/simpleWeather/query?city=%s&key=7d6c560a83279af6d8980e4c1b45e964')%(cityname)\n",
    "#调用API接口，用的是聚合数据的API\n",
    "r = requests.get(url)\n",
    "#得到返回值，将返回值转化为json格式\n",
    "response_dict = r.json()\n",
    "#输入要查询的日期，该接口只支持今天及未来四天内的天气预报查询\n",
    "date = input('请输入日期：【如2019-05-07，本程序只支持查询今天及未来四天内的天气】')\n",
    "#取输入的查询日期的后两位，即“日”的数值\n",
    "date=int(date[-2:])\n",
    "#取当日日期\n",
    "today =response_dict['result']['future'][0]['date']\n",
    "#取当日日期的后两位，即“日”的数值，与输入的查询日期的“日”的值求差值\n",
    "value =date-int(today[-2:])\n",
    "#可多次输入\n",
    "while (value >4) or (value<0):\n",
    "    print('输入时间有误，请重新输入')\n",
    "    date = input('请输入日期：【如2019-05-07，本程序只支持查询今天及未来四天内的天气】')\n",
    "    date=int(date[-2:])\n",
    "    today =response_dict['result']['future'][0]['date']\n",
    "    value =date-int(today[-2:])\n",
    "#返回值结构较复杂，包含字典、列表，所以取查询日期和当日的差值，然后把差值作为索引，从列表中取值；\n",
    "#输出查询日期，温度，天气，风向\n",
    "print('查询日期：',response_dict['result']['future'][value]['date'])\n",
    "print('温度：',response_dict['result']['future'][value]['temperature'])\n",
    "print('天气：',response_dict['result']['future'][value]['weather'])\n",
    "print('风向：',response_dict['result']['future'][value]['direct'])\n",
    "#该接口每天只能调用100次，超过100次会报错"
   ]
  },
  {
   "cell_type": "code",
   "execution_count": null,
   "metadata": {},
   "outputs": [],
   "source": []
  }
 ],
 "metadata": {
  "kernelspec": {
   "display_name": "Python 3",
   "language": "python",
   "name": "python3"
  },
  "language_info": {
   "codemirror_mode": {
    "name": "ipython",
    "version": 3
   },
   "file_extension": ".py",
   "mimetype": "text/x-python",
   "name": "python",
   "nbconvert_exporter": "python",
   "pygments_lexer": "ipython3",
   "version": "3.7.0"
  }
 },
 "nbformat": 4,
 "nbformat_minor": 2
}
